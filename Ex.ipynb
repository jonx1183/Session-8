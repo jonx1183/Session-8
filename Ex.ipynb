{
 "cells": [
  {
   "cell_type": "markdown",
   "metadata": {},
   "source": [
    "Ex 1"
   ]
  },
  {
   "cell_type": "code",
   "execution_count": 7,
   "metadata": {},
   "outputs": [],
   "source": [
    "class Car:\n",
    "    def __init__(self, make, model, bhp, mph):\n",
    "        self.make = make\n",
    "        self.model = model\n",
    "        self.bhp = bhp\n",
    "        self.mph = mph\n",
    "    \n",
    "    @property\n",
    "    def make(self):\n",
    "        return self._make\n",
    "    @property\n",
    "    def model(self):\n",
    "        return self._model\n",
    "    @property\n",
    "    def bhp(self):\n",
    "        return self._bhp\n",
    "    @property\n",
    "    def mph(self):\n",
    "        return self._mph\n",
    "\n",
    "    @make.setter\n",
    "    def make(self, val):\n",
    "        self._make = val\n",
    "    @model.setter\n",
    "    def model(self, val):\n",
    "        self._model = val\n",
    "    @bhp.setter\n",
    "    def bhp(self, val):\n",
    "        self._bhp = val\n",
    "    @mph.setter\n",
    "    def mph(self, val):\n",
    "        self._mph = val         "
   ]
  },
  {
   "cell_type": "code",
   "execution_count": 8,
   "metadata": {},
   "outputs": [
    {
     "name": "stdout",
     "output_type": "stream",
     "text": [
      "TestMake\n",
      "TestModel\n",
      "20\n",
      "32\n"
     ]
    }
   ],
   "source": [
    "c = Car\n",
    "\n",
    "c.make = 'TestMake'\n",
    "c.model = 'TestModel'\n",
    "c.bhp = 20\n",
    "c.mph = 32\n",
    "\n",
    "print(c.make)\n",
    "print(c.model)\n",
    "print(c.bhp)\n",
    "print(c.mph)"
   ]
  }
 ],
 "metadata": {
  "kernelspec": {
   "display_name": "Python 3",
   "language": "python",
   "name": "python3"
  },
  "language_info": {
   "codemirror_mode": {
    "name": "ipython",
    "version": 3
   },
   "file_extension": ".py",
   "mimetype": "text/x-python",
   "name": "python",
   "nbconvert_exporter": "python",
   "pygments_lexer": "ipython3",
   "version": "3.11.4"
  }
 },
 "nbformat": 4,
 "nbformat_minor": 2
}
